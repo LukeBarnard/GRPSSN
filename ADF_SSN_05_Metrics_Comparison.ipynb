{
 "cells": [
  {
   "cell_type": "markdown",
   "metadata": {},
   "source": [
    "# Modules"
   ]
  },
  {
   "cell_type": "code",
   "execution_count": 87,
   "metadata": {},
   "outputs": [],
   "source": [
    "# Modules\n",
    "import scipy as sp\n",
    "from scipy import sparse, signal, stats\n",
    "from astropy import convolution as conv\n",
    "import numpy as np\n",
    "from numpy.fft import fft, ifft\n",
    "import matplotlib.pyplot as plt\n",
    "from matplotlib import colors as clrs\n",
    "import pandas as pd \n",
    "import time\n",
    "import datetime\n",
    "import calendar\n",
    "import seaborn as sns\n",
    "from copy import deepcopy\n",
    "\n",
    "import multiprocessing as mp\n",
    "from multiprocessing.dummy import Pool as ThreadPool\n",
    "\n",
    "%matplotlib inline \n",
    "\n",
    "import sys\n",
    "sys.path.insert(1, r'functions')  # add to pythonpath\n",
    "from detect_peaks import detect_peaks\n",
    "\n",
    "\n",
    "# Color definitions\n",
    "ClrS = (0.74, 0.00, 0.00)\n",
    "ClrN = (0.20, 0.56, 1.00)\n",
    "\n",
    "Clr = [(0.00, 0.00, 0.00),\n",
    "      (0.31, 0.24, 0.00),\n",
    "      (0.43, 0.16, 0.49),\n",
    "      (0.32, 0.70, 0.30),\n",
    "      (0.45, 0.70, 0.90),\n",
    "      (1.00, 0.82, 0.67)]\n",
    "\n",
    "# Font Size\n",
    "\n",
    "font = {'family': 'sans-serif',\n",
    "        'weight': 'normal',\n",
    "        'size'   : 21}\n",
    "\n",
    "plt.rc('font', **font)\n",
    "\n"
   ]
  },
  {
   "cell_type": "markdown",
   "metadata": {},
   "source": [
    "# Reading data"
   ]
  },
  {
   "cell_type": "code",
   "execution_count": 96,
   "metadata": {},
   "outputs": [
    {
     "name": "stdout",
     "output_type": "stream",
     "text": [
      "(208, 49)\n",
      "(208, 49)\n",
      "(208, 49)\n",
      "(208, 49)\n",
      "(208, 49)\n",
      "(208, 49)\n",
      "(208, 49)\n",
      "(208, 49)\n",
      "(208, 49)\n",
      "(208, 49)\n",
      "(208, 49)\n",
      "(208, 49)\n",
      "(208, 49)\n",
      "(208, 49)\n",
      "(208, 49)\n",
      "(208, 49)\n",
      "(208, 49)\n",
      "(208, 49)\n"
     ]
    }
   ],
   "source": [
    "#REF_Dat = pd.read_csv('input_data/SC_SP_RG_DB_KM_group_areas_by_day.csv', quotechar = '\"', encoding = 'ansi',header = 0)\n",
    "\n",
    "# import dask.dataframe as dd\n",
    "# df = dd.read_csv('C:/Users/usuario/Documents/Fisica/Investigacion/27-Boulder/ADFSSNGit/scripts/output/Run-2018-12-18-SSN3-2/*.csv')\n",
    "\n",
    "import glob\n",
    "import pandas as pd\n",
    "path ='D:/Mis Documentos/AAResearch/Codes/ADFSSN/runcsvs/' # use your path\n",
    "# csvFiles = glob.glob(path + \"/*.csv\")\n",
    "\n",
    "\n",
    "PL = [100]\n",
    "PH = [60, 75, 90]\n",
    "QD = [0]\n",
    "AD = [0.6, 0.75, 0.9]\n",
    "\n",
    "# Reading reference\n",
    "df = pd.read_csv(path + 'A_O_NB1_Observer_ADF.csv', header=0).drop_duplicates(subset='Observer', keep='last')\n",
    "comObs = df['Observer'].values.copy()                \n",
    "\n",
    "# First pass to identify common observers\n",
    "for ipl, pl in enumerate(PL):\n",
    "    for iph, ph in enumerate(PH):\n",
    "        for iqd, qd in enumerate(QD):\n",
    "            for iad, ad in enumerate(AD):\n",
    "                \n",
    "                df = pd.read_csv(path + 'A_D_NB1_PL' + str(pl) + '_PH' + str(ph) + '_QD' + str(qd) + '_AD' + str(ad) + '_Observer_ADF.csv', header=0).drop_duplicates(subset='Observer', keep='last')\n",
    "                comObs = np.intersect1d(comObs, df['Observer'].values, assume_unique=False, return_indices=False)\n",
    "\n",
    "                \n",
    "## Creating multi-index dataframe from reference\n",
    "\n",
    "# Reading reference and keeping only common observers\n",
    "df = pd.read_csv(path + 'A_O_NB1_Observer_ADF.csv', header=0).drop_duplicates(subset='Observer', keep='last').set_index('Observer')\n",
    "df = df.loc[comObs,:]\n",
    "\n",
    "# Create Multi-index\n",
    "MxInx = pd.MultiIndex.from_product([[0],[0],[0],[0],comObs], names=['PL', 'PH', 'QD', 'AD','Observer'])\n",
    "MxDf = pd.DataFrame(df.values, index=MxInx, columns = df.columns)\n",
    "\n",
    "# Append Runs\n",
    "\n",
    "# First pass to identify common observers\n",
    "for ipl, pl in enumerate(PL):\n",
    "    for iph, ph in enumerate(PH):\n",
    "        for iqd, qd in enumerate(QD):\n",
    "            for iad, ad in enumerate(AD):\n",
    "                \n",
    "                df = pd.read_csv(path + 'A_D_NB1_PL' + str(pl) + '_PH' + str(ph) + '_QD' + str(qd) + '_AD' + str(ad) + '_Observer_ADF.csv', header=0).drop_duplicates(subset='Observer', keep='last').set_index('Observer')\n",
    "                print(df.shape)\n",
    "                df = df.loc[comObs,:]\n",
    "                print(df.shape)\n",
    "                \n",
    "                MxInx = pd.MultiIndex.from_product([[pl],[ph],[qd],[ad],comObs], names=['PL', 'PH', 'QD', 'AD','Observer'])\n",
    "                tmpDf = pd.DataFrame(df.values, index=MxInx, columns = df.columns)\n",
    "                                \n",
    "                MxDf = MxDf.append(tmpDf)\n",
    "                \n",
    "                "
   ]
  },
  {
   "cell_type": "code",
   "execution_count": 118,
   "metadata": {
    "scrolled": true
   },
   "outputs": [
    {
     "name": "stdout",
     "output_type": "stream",
     "text": [
      "[0.19 0.25 0.19 0.26 0.19 0.19 0.23 0.17 0.19]\n"
     ]
    }
   ],
   "source": [
    "# PL = [100]\n",
    "# PH = [60, 75, 90]\n",
    "# QD = [0]\n",
    "# AD = [0.6, 0.75, 0.9]\n",
    "\n",
    "with pd.option_context('display.max_rows', None, 'display.max_columns', None):\n",
    "    print(MxDf.loc[(PL,PH,QD,AD,318),'mreSth'])\n",
    "\n"
   ]
  },
  {
   "cell_type": "code",
   "execution_count": 120,
   "metadata": {},
   "outputs": [
    {
     "data": {
      "text/plain": [
       "Observer\n",
       "318    0.170000\n",
       "321         NaN\n",
       "322         NaN\n",
       "323   -0.420000\n",
       "324   -0.360000\n",
       "325   -0.250000\n",
       "327   -0.550000\n",
       "328   -0.340000\n",
       "329   -0.440000\n",
       "330   -0.360000\n",
       "333   -0.120000\n",
       "334   -0.380000\n",
       "335   -0.510000\n",
       "336   -0.480000\n",
       "337   -0.360000\n",
       "339   -0.500000\n",
       "341   -0.170000\n",
       "342   -0.330000\n",
       "343   -0.560000\n",
       "344    0.020000\n",
       "345   -0.220000\n",
       "346   -0.090000\n",
       "347         inf\n",
       "348    0.900000\n",
       "349   -0.380000\n",
       "350   -0.310000\n",
       "351   -0.110000\n",
       "352   -0.140000\n",
       "353   -0.130000\n",
       "354   -0.450000\n",
       "         ...   \n",
       "590   -0.650000\n",
       "591   -0.120000\n",
       "592   -0.230000\n",
       "595   -0.310000\n",
       "596   -0.230000\n",
       "598   -0.370000\n",
       "599   -0.350000\n",
       "600   -0.290000\n",
       "601   -0.300000\n",
       "602   -0.310000\n",
       "604   -0.180000\n",
       "605    0.040000\n",
       "607   -0.360000\n",
       "612   -0.350000\n",
       "613   -0.640000\n",
       "615   -0.440000\n",
       "616   -0.330000\n",
       "617   -0.140000\n",
       "618   -0.170000\n",
       "620   -0.110000\n",
       "621   -0.230000\n",
       "622   -0.540000\n",
       "625   -0.390000\n",
       "626   -0.330000\n",
       "627   -0.360000\n",
       "628   -0.440000\n",
       "629   -0.490000\n",
       "630   -0.300000\n",
       "631   -0.370000\n",
       "632   -0.230000\n",
       "Name: mreSth, Length: 208, dtype: float64"
      ]
     },
     "execution_count": 120,
     "metadata": {},
     "output_type": "execute_result"
    }
   ],
   "source": [
    "MxDf['mreSth'].min(level='Observer')"
   ]
  },
  {
   "cell_type": "code",
   "execution_count": 125,
   "metadata": {},
   "outputs": [
    {
     "name": "stdout",
     "output_type": "stream",
     "text": [
      "[318 'Spoerer' 0.19 0.32 1.19]\n",
      "0.19\n",
      "0.0\n",
      "[318 'Spoerer' 0.25 0.37 1.25]\n",
      "0.25\n",
      "0.0\n",
      "[318 'Spoerer' 0.19 0.32 1.19]\n",
      "0.19\n",
      "0.0\n",
      "[318 'Spoerer' 0.26 0.38 1.26]\n",
      "0.26\n",
      "0.0\n",
      "[318 'Spoerer' 0.19 0.32 1.19]\n",
      "0.19\n",
      "0.0\n",
      "[318 'Spoerer' 0.19 0.32 1.19]\n",
      "0.19\n",
      "0.0\n",
      "[318 'Spoerer' 0.23 0.36 1.23]\n",
      "0.23\n",
      "0.0\n",
      "[318 'Spoerer' 0.17 0.29 1.17]\n",
      "0.17\n",
      "0.0\n",
      "[318 'Spoerer' 0.19 0.32 1.19]\n",
      "0.19\n",
      "0.0\n"
     ]
    }
   ],
   "source": [
    "import glob\n",
    "import pandas as pd\n",
    "path ='C:/Users/usuario/Documents/Fisica/Investigacion/27-Boulder/ADFSSNGit/scripts/output/Run-2018-12-18-SSN3-2' # use your path\n",
    "allFiles = glob.glob(path + \"/*.csv\")\n",
    "# dfold = 0\n",
    "\n",
    "for file_ in allFiles:\n",
    "    df = pd.read_csv(file_,index_col=None, usecols = [0,1,6,7,8,9,10,11], header=0)\n",
    "#     print(df)\n",
    "    df = np.array(df)\n",
    "    print(df[0,0:5])\n",
    "    print(np.min(df[0,2:5]))\n",
    "    print(np.min(df[0,2:5]-df[0,2:5]))\n",
    "    \n",
    "#     data = np.append(df)\n",
    "    \n",
    "#     df = pd.DataFrame(df)\n",
    "#     print(df)\n",
    "#     dfold = df\n",
    "# index=data[:,0]\n",
    "\n",
    "# print(df)"
   ]
  },
  {
   "cell_type": "code",
   "execution_count": null,
   "metadata": {},
   "outputs": [],
   "source": []
  },
  {
   "cell_type": "code",
   "execution_count": null,
   "metadata": {},
   "outputs": [],
   "source": []
  },
  {
   "cell_type": "code",
   "execution_count": null,
   "metadata": {},
   "outputs": [],
   "source": []
  }
 ],
 "metadata": {
  "kernelspec": {
   "display_name": "Python 3",
   "language": "python",
   "name": "python3"
  },
  "language_info": {
   "codemirror_mode": {
    "name": "ipython",
    "version": 3
   },
   "file_extension": ".py",
   "mimetype": "text/x-python",
   "name": "python",
   "nbconvert_exporter": "python",
   "pygments_lexer": "ipython3",
   "version": "3.7.1"
  }
 },
 "nbformat": 4,
 "nbformat_minor": 2
}
